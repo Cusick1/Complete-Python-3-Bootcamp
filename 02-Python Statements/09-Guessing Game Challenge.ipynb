{
 "cells": [
  {
   "cell_type": "markdown",
   "metadata": {},
   "source": [
    "___\n",
    "\n",
    "<a href='https://www.udemy.com/user/joseportilla/'><img src='../Pierian_Data_Logo.png'/></a>\n",
    "___\n",
    "<center><em>Content Copyright by Pierian Data</em></center>"
   ]
  },
  {
   "cell_type": "markdown",
   "metadata": {},
   "source": [
    "# Guessing Game Challenge\n",
    "\n",
    "Let's use `while` loops to create a guessing game.\n",
    "\n",
    "The Challenge:\n",
    "\n",
    "Write a program that picks a random integer from 1 to 100, and has players guess the number. The rules are:\n",
    "\n",
    "1. If a player's guess is less than 1 or greater than 100, say \"OUT OF BOUNDS\"\n",
    "2. On a player's first turn, if their guess is\n",
    " * within 10 of the number, return \"WARM!\"\n",
    " * further than 10 away from the number, return \"COLD!\"\n",
    "3. On all subsequent turns, if a guess is \n",
    " * closer to the number than the previous guess return \"WARMER!\"\n",
    " * farther from the number than the previous guess, return \"COLDER!\"\n",
    "4. When the player's guess equals the number, tell them they've guessed correctly *and* how many guesses it took!\n",
    "\n",
    "You can try this from scratch, or follow the steps outlined below. A separate Solution notebook has been provided. Good luck!\n"
   ]
  },
  {
   "cell_type": "markdown",
   "metadata": {},
   "source": [
    "#### First, pick a random integer from 1 to 100 using the random module and assign it to a variable\n",
    "\n",
    "Note: `random.randint(a,b)` returns a random integer in range `[a, b]`, including both end points."
   ]
  },
  {
   "cell_type": "code",
   "execution_count": 2,
   "metadata": {
    "collapsed": true
   },
   "outputs": [],
   "source": [
    "import random\n",
    "answer = random.randint(1,100)"
   ]
  },
  {
   "cell_type": "markdown",
   "metadata": {},
   "source": [
    "#### Next, print an introduction to the game and explain the rules"
   ]
  },
  {
   "cell_type": "code",
   "execution_count": null,
   "metadata": {
    "collapsed": true
   },
   "outputs": [],
   "source": [
    "print(\"I'm thinking of a number between 1 and 100 what do you think it is?\")\n",
    "print(\"I'll tell you wamr or cold based on your first number.\")\n",
    "print(\"Then on every guess after that I'll tell you warmer or colder\")\n",
    "print(\"depending on if you are closer or farther away to the answer than your previous guess.\")\n"
   ]
  },
  {
   "cell_type": "markdown",
   "metadata": {},
   "source": [
    "#### Create a list to store guesses\n",
    "\n",
    "Hint: zero is a good placeholder value. It's useful because it evaluates to \"False\""
   ]
  },
  {
   "cell_type": "code",
   "execution_count": 7,
   "metadata": {
    "collapsed": true
   },
   "outputs": [
    {
     "name": "stdout",
     "output_type": "stream",
     "text": [
      "10\n"
     ]
    }
   ],
   "source": [
    "guess = [0]"
   ]
  },
  {
   "cell_type": "markdown",
   "metadata": {},
   "source": [
    "#### Write a `while` loop that asks for a valid guess. Test it a few times to make sure it works."
   ]
  },
  {
   "cell_type": "code",
   "execution_count": 4,
   "metadata": {
    "collapsed": true
   },
   "outputs": [],
   "source": [
    "new_guess = 0\n",
    "while (new_guess < 1 or new_guess > 100):\n",
    "    new_guess = int(input(\"Enter a guess: \"))\n",
    "    if new_guess < 1 or new_guess > 100:\n",
    "        print(\"OUT OF BOUNDS\")"
   ]
  },
  {
   "cell_type": "markdown",
   "metadata": {},
   "source": [
    "#### Write a `while` loop that compares the player's guess to our number. If the player guesses correctly, break from the loop. Otherwise, tell the player if they're warmer or colder, and continue asking for guesses.\n",
    "\n",
    "Some hints:\n",
    "* it may help to sketch out all possible combinations on paper first!\n",
    "* you can use the `abs()` function to find the positive difference between two numbers\n",
    "* if you append all new guesses to the list, then the previous guess is given as `guesses[-2]`"
   ]
  },
  {
   "cell_type": "code",
   "execution_count": 14,
   "metadata": {
    "collapsed": true
   },
   "outputs": [
    {
     "name": "stdout",
     "output_type": "stream",
     "text": [
      "I'm thinking of a number between 1 and 100 what do you think it is?\n",
      "I'll tell you wamr or cold based on your first number.\n",
      "Then on every guess after that I'll tell you warmer or colder\n",
      "depending on if you are closer or farther away to the answer than your previous guess.\n",
      "Cold\n",
      "Colder\n",
      "Warmer\n",
      "Warmer\n",
      "Colder\n",
      "Warmer\n",
      "Warmer\n",
      "Warmer\n",
      "Congratulations you guessed my number: 28\n"
     ]
    }
   ],
   "source": [
    "import random\n",
    "answer = random.randint(1,100)\n",
    "guess = [0]\n",
    "new_guess = 0\n",
    "\n",
    "\n",
    "print(\"I'm thinking of a number between 1 and 100 what do you think it is?\")\n",
    "print(\"I'll tell you wamr or cold based on your first number.\")\n",
    "print(\"Then on every guess after that I'll tell you warmer or colder\")\n",
    "print(\"depending on if you are closer or farther away to the answer than your previous guess.\")\n",
    "\n",
    "first_guess = True\n",
    "\n",
    "while new_guess != answer:\n",
    "    new_guess = 0\n",
    "    while (new_guess < 1 or new_guess > 100):\n",
    "        new_guess = int(input(\"Enter a guess: \"))\n",
    "        if new_guess < 1 or new_guess > 100:\n",
    "            print(\"OUT OF BOUNDS\")       \n",
    "    guess.append(new_guess)\n",
    "    \n",
    "    if guess[-1] == answer:\n",
    "        print(f\"Congratulations you guessed my number: {answer}\")\n",
    "        break\n",
    "    elif first_guess == True:\n",
    "        if abs(answer-guess[-1]) < 11:\n",
    "            print(\"Warm\")\n",
    "            first_guess = False\n",
    "        else:\n",
    "            print(\"Cold\")\n",
    "            first_guess = False\n",
    "    elif guess[-1] == guess[-2]:\n",
    "        print(\"That was your last guess\")\n",
    "    elif(abs(answer-guess[-1]) < abs(answer - guess[-2])):\n",
    "        print(\"Warmer\")\n",
    "    else:\n",
    "        print(\"Colder\")\n",
    "\n",
    "    \n",
    "    \n",
    "\n",
    "    "
   ]
  },
  {
   "cell_type": "markdown",
   "metadata": {},
   "source": [
    "That's it! You've just programmed your first game!\n",
    "\n",
    "In the next section we'll learn how to turn some of these repetitive actions into *functions* that can be called whenever we need them."
   ]
  },
  {
   "cell_type": "markdown",
   "metadata": {},
   "source": [
    "### Good Job!"
   ]
  }
 ],
 "metadata": {
  "kernelspec": {
   "display_name": "Python 3.9.7 64-bit ('3.9.7')",
   "language": "python",
   "name": "python3"
  },
  "language_info": {
   "codemirror_mode": {
    "name": "ipython",
    "version": 3
   },
   "file_extension": ".py",
   "mimetype": "text/x-python",
   "name": "python",
   "nbconvert_exporter": "python",
   "pygments_lexer": "ipython3",
   "version": "3.9.7"
  },
  "vscode": {
   "interpreter": {
    "hash": "6722ad717d9dda9e368731641b121e3004bed41ce1a6dac036f511006358569e"
   }
  }
 },
 "nbformat": 4,
 "nbformat_minor": 2
}
